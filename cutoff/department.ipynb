{
 "cells": [
  {
   "cell_type": "code",
   "execution_count": 40,
   "id": "a39286e5",
   "metadata": {},
   "outputs": [],
   "source": [
    "import pandas as pd\n",
    "import numpy as np\n",
    "import seaborn as sns\n",
    "import matplotlib.pyplot as plt\n",
    "import pickle\n",
    "from sklearn.preprocessing import LabelEncoder\n",
    "from sklearn.model_selection import train_test_split\n",
    "from sklearn.model_selection import train_test_split\n",
    "from sklearn.linear_model import LinearRegression\n",
    "from sklearn.metrics import accuracy_score"
   ]
  },
  {
   "cell_type": "code",
   "execution_count": 41,
   "id": "e7eddf56",
   "metadata": {},
   "outputs": [
    {
     "name": "stdout",
     "output_type": "stream",
     "text": [
      "Combined Dataset:\n",
      "   College Code                                       College Name  \\\n",
      "0             1  University Departments of Anna University, Che...   \n",
      "1             1  University Departments of Anna University, Che...   \n",
      "2             1  University Departments of Anna University, Che...   \n",
      "3             1  University Departments of Anna University, Che...   \n",
      "4             1  University Departments of Anna University, Che...   \n",
      "\n",
      "  Branch Code                                Branch Name      OC          BC  \\\n",
      "0          BY               BIO MEDICAL ENGINEERING (SS)  195.00  194.000000   \n",
      "1          CE                          CIVIL ENGINEERING  193.50  192.685000   \n",
      "2          CM      COMPUTER SCIENCE AND ENGINEERING (SS)  198.00  197.666667   \n",
      "3          CS           COMPUTER SCIENCE AND ENGINEERING  199.00  198.120000   \n",
      "4          EC  ELECTRONICS AND COMMUNICATION ENGINEERING  197.99  197.333333   \n",
      "\n",
      "       BCM      MBC   MBCDNC    MBCV      SC      SCA       ST  \n",
      "0  193.500  194.775  190.000  192.50  189.00  182.500  181.000  \n",
      "1  190.500  193.330  190.275  191.24  190.00  182.000  174.635  \n",
      "2  196.375  197.500  196.760  196.00  193.00  192.060  190.815  \n",
      "3  197.020  198.625  198.000  198.00  196.50  193.935  192.165  \n",
      "4  196.000  197.130  195.540  195.78  194.35  192.000  192.500  \n"
     ]
    }
   ],
   "source": [
    "file_paths = [ \n",
    "    'TNEA-2017-Cutoffs.xlsx',\n",
    "    'TNEA-2018-Cutoffs.xlsx',\n",
    "    'TNEA-2019-Cutoffs.xlsx',\n",
    "    'TNEA-2020-Cutoffs.xlsx',\n",
    "    'TNEA-2021-Cutoffs.xlsx',\n",
    "    'TNEA-2022-Cutoffs.xlsx',\n",
    "]\n",
    "\n",
    "combined_df = pd.DataFrame()\n",
    "\n",
    "for file_path in file_paths:\n",
    "    df = pd.read_excel(file_path)\n",
    "    combined_df = pd.concat([combined_df, df], ignore_index=True)\n",
    "\n",
    "print(\"Combined Dataset:\")\n",
    "print(combined_df.head())\n",
    "\n",
    "combined_df.to_csv('combined_cutoff.csv', index=False)"
   ]
  },
  {
   "cell_type": "code",
   "execution_count": 42,
   "id": "1bde3e5b",
   "metadata": {},
   "outputs": [
    {
     "name": "stdout",
     "output_type": "stream",
     "text": [
      "Combined Dataset:\n",
      "   College Code                                       College Name  \\\n",
      "0             1  University Departments of Anna University, Che...   \n",
      "1             1  University Departments of Anna University, Che...   \n",
      "2             1  University Departments of Anna University, Che...   \n",
      "3             1  University Departments of Anna University, Che...   \n",
      "4             1  University Departments of Anna University, Che...   \n",
      "\n",
      "  Branch Code                                Branch Name    OC      BC  \\\n",
      "0          BY               BIO MEDICAL ENGINEERING (SS)  1248  1998.0   \n",
      "1          CE                          CIVIL ENGINEERING  2326  3227.0   \n",
      "2          CM      COMPUTER SCIENCE AND ENGINEERING (SS)   175   260.0   \n",
      "3          CS           COMPUTER SCIENCE AND ENGINEERING    29   111.0   \n",
      "4          EC  ELECTRONICS AND COMMUNICATION ENGINEERING   218   332.0   \n",
      "\n",
      "      BCM     MBC  MBCDNC    MBCV      SC      SCA       ST  \n",
      "0  2390.0  1420.0  7177.0  3397.0  8937.0  22463.0  26147.0  \n",
      "1  6363.0  2527.0  6612.0  5193.0  7316.0  23541.0  43295.0  \n",
      "2   631.0   312.0   501.0   771.0  2940.0   3853.0   5838.0  \n",
      "3   388.0    67.0   196.0   172.0   551.0   2101.0   3779.0  \n",
      "4   789.0   368.0   962.0   870.0  1680.0   4067.0   3514.0  \n"
     ]
    }
   ],
   "source": [
    "file_paths = [    \n",
    "    'TNEA-2021-Ranks.xlsx',\n",
    "    'TNEA-2022-Ranks.xlsx',    \n",
    "]\n",
    "\n",
    "combined_df = pd.DataFrame()\n",
    "\n",
    "for file_path in file_paths:\n",
    "    df = pd.read_excel(file_path)\n",
    "    combined_df = pd.concat([combined_df, df], ignore_index=True)\n",
    "\n",
    "print(\"Combined Dataset:\")\n",
    "print(combined_df.head())\n",
    "\n",
    "combined_df.to_csv('combined_rank.csv', index=False)"
   ]
  },
  {
   "cell_type": "code",
   "execution_count": 43,
   "id": "f74ef343",
   "metadata": {},
   "outputs": [
    {
     "name": "stdout",
     "output_type": "stream",
     "text": [
      "<class 'pandas.core.frame.DataFrame'>\n",
      "RangeIndex: 5320 entries, 0 to 5319\n",
      "Data columns (total 13 columns):\n",
      " #   Column        Non-Null Count  Dtype  \n",
      "---  ------        --------------  -----  \n",
      " 0   College Code  5320 non-null   int64  \n",
      " 1   College Name  5320 non-null   object \n",
      " 2   Branch Code   5320 non-null   object \n",
      " 3   Branch Name   5320 non-null   object \n",
      " 4   OC            5320 non-null   float64\n",
      " 5   BC            3709 non-null   float64\n",
      " 6   BCM           2686 non-null   float64\n",
      " 7   MBC           3184 non-null   float64\n",
      " 8   MBCDNC        1530 non-null   float64\n",
      " 9   MBCV          1475 non-null   float64\n",
      " 10  SC            3385 non-null   float64\n",
      " 11  SCA           1605 non-null   float64\n",
      " 12  ST            501 non-null    float64\n",
      "dtypes: float64(9), int64(1), object(3)\n",
      "memory usage: 540.4+ KB\n"
     ]
    }
   ],
   "source": [
    "cutoff_data = pd.read_csv('combined_cutoff.csv')\n",
    "\n",
    "cutoff_data.info()"
   ]
  },
  {
   "cell_type": "code",
   "execution_count": 44,
   "id": "fa0c7c62",
   "metadata": {},
   "outputs": [
    {
     "data": {
      "text/html": [
       "<div>\n",
       "<style scoped>\n",
       "    .dataframe tbody tr th:only-of-type {\n",
       "        vertical-align: middle;\n",
       "    }\n",
       "\n",
       "    .dataframe tbody tr th {\n",
       "        vertical-align: top;\n",
       "    }\n",
       "\n",
       "    .dataframe thead th {\n",
       "        text-align: right;\n",
       "    }\n",
       "</style>\n",
       "<table border=\"1\" class=\"dataframe\">\n",
       "  <thead>\n",
       "    <tr style=\"text-align: right;\">\n",
       "      <th></th>\n",
       "      <th>College Code</th>\n",
       "      <th>OC</th>\n",
       "      <th>BC</th>\n",
       "      <th>BCM</th>\n",
       "      <th>MBC</th>\n",
       "      <th>MBCDNC</th>\n",
       "      <th>MBCV</th>\n",
       "      <th>SC</th>\n",
       "      <th>SCA</th>\n",
       "      <th>ST</th>\n",
       "    </tr>\n",
       "  </thead>\n",
       "  <tbody>\n",
       "    <tr>\n",
       "      <th>count</th>\n",
       "      <td>5320.000000</td>\n",
       "      <td>5320.000000</td>\n",
       "      <td>3709.000000</td>\n",
       "      <td>2686.000000</td>\n",
       "      <td>3184.000000</td>\n",
       "      <td>1530.000000</td>\n",
       "      <td>1475.000000</td>\n",
       "      <td>3385.000000</td>\n",
       "      <td>1605.000000</td>\n",
       "      <td>501.000000</td>\n",
       "    </tr>\n",
       "    <tr>\n",
       "      <th>mean</th>\n",
       "      <td>2863.070865</td>\n",
       "      <td>140.817044</td>\n",
       "      <td>138.626586</td>\n",
       "      <td>148.387916</td>\n",
       "      <td>139.098295</td>\n",
       "      <td>158.194693</td>\n",
       "      <td>155.562462</td>\n",
       "      <td>125.083697</td>\n",
       "      <td>135.072406</td>\n",
       "      <td>139.689947</td>\n",
       "    </tr>\n",
       "    <tr>\n",
       "      <th>std</th>\n",
       "      <td>1463.780891</td>\n",
       "      <td>34.115700</td>\n",
       "      <td>35.937062</td>\n",
       "      <td>29.752473</td>\n",
       "      <td>36.059738</td>\n",
       "      <td>21.099592</td>\n",
       "      <td>23.686523</td>\n",
       "      <td>31.561250</td>\n",
       "      <td>30.177420</td>\n",
       "      <td>28.871742</td>\n",
       "    </tr>\n",
       "    <tr>\n",
       "      <th>min</th>\n",
       "      <td>1.000000</td>\n",
       "      <td>77.860000</td>\n",
       "      <td>78.000000</td>\n",
       "      <td>77.500000</td>\n",
       "      <td>78.000000</td>\n",
       "      <td>80.000000</td>\n",
       "      <td>78.000000</td>\n",
       "      <td>77.500000</td>\n",
       "      <td>80.000000</td>\n",
       "      <td>80.000000</td>\n",
       "    </tr>\n",
       "    <tr>\n",
       "      <th>25%</th>\n",
       "      <td>1436.750000</td>\n",
       "      <td>113.000000</td>\n",
       "      <td>105.000000</td>\n",
       "      <td>129.000000</td>\n",
       "      <td>103.000000</td>\n",
       "      <td>145.003750</td>\n",
       "      <td>141.242500</td>\n",
       "      <td>95.000000</td>\n",
       "      <td>108.500000</td>\n",
       "      <td>117.000000</td>\n",
       "    </tr>\n",
       "    <tr>\n",
       "      <th>50%</th>\n",
       "      <td>2702.000000</td>\n",
       "      <td>146.000000</td>\n",
       "      <td>142.430000</td>\n",
       "      <td>153.995000</td>\n",
       "      <td>146.500000</td>\n",
       "      <td>161.060000</td>\n",
       "      <td>159.095000</td>\n",
       "      <td>125.135000</td>\n",
       "      <td>139.000000</td>\n",
       "      <td>143.650000</td>\n",
       "    </tr>\n",
       "    <tr>\n",
       "      <th>75%</th>\n",
       "      <td>3825.000000</td>\n",
       "      <td>169.071250</td>\n",
       "      <td>170.350000</td>\n",
       "      <td>171.500000</td>\n",
       "      <td>170.000000</td>\n",
       "      <td>173.407500</td>\n",
       "      <td>174.032500</td>\n",
       "      <td>150.600000</td>\n",
       "      <td>159.275000</td>\n",
       "      <td>162.405000</td>\n",
       "    </tr>\n",
       "    <tr>\n",
       "      <th>max</th>\n",
       "      <td>5990.000000</td>\n",
       "      <td>200.000000</td>\n",
       "      <td>200.000000</td>\n",
       "      <td>199.000000</td>\n",
       "      <td>199.333333</td>\n",
       "      <td>198.000000</td>\n",
       "      <td>198.000000</td>\n",
       "      <td>197.500000</td>\n",
       "      <td>197.500000</td>\n",
       "      <td>193.725000</td>\n",
       "    </tr>\n",
       "  </tbody>\n",
       "</table>\n",
       "</div>"
      ],
      "text/plain": [
       "       College Code           OC           BC          BCM          MBC  \\\n",
       "count   5320.000000  5320.000000  3709.000000  2686.000000  3184.000000   \n",
       "mean    2863.070865   140.817044   138.626586   148.387916   139.098295   \n",
       "std     1463.780891    34.115700    35.937062    29.752473    36.059738   \n",
       "min        1.000000    77.860000    78.000000    77.500000    78.000000   \n",
       "25%     1436.750000   113.000000   105.000000   129.000000   103.000000   \n",
       "50%     2702.000000   146.000000   142.430000   153.995000   146.500000   \n",
       "75%     3825.000000   169.071250   170.350000   171.500000   170.000000   \n",
       "max     5990.000000   200.000000   200.000000   199.000000   199.333333   \n",
       "\n",
       "            MBCDNC         MBCV           SC          SCA          ST  \n",
       "count  1530.000000  1475.000000  3385.000000  1605.000000  501.000000  \n",
       "mean    158.194693   155.562462   125.083697   135.072406  139.689947  \n",
       "std      21.099592    23.686523    31.561250    30.177420   28.871742  \n",
       "min      80.000000    78.000000    77.500000    80.000000   80.000000  \n",
       "25%     145.003750   141.242500    95.000000   108.500000  117.000000  \n",
       "50%     161.060000   159.095000   125.135000   139.000000  143.650000  \n",
       "75%     173.407500   174.032500   150.600000   159.275000  162.405000  \n",
       "max     198.000000   198.000000   197.500000   197.500000  193.725000  "
      ]
     },
     "execution_count": 44,
     "metadata": {},
     "output_type": "execute_result"
    }
   ],
   "source": [
    "cutoff_data.describe()\n"
   ]
  },
  {
   "cell_type": "code",
   "execution_count": 45,
   "id": "a7a8a2f0",
   "metadata": {},
   "outputs": [
    {
     "data": {
      "text/plain": [
       "College Code       0\n",
       "College Name       0\n",
       "Branch Code        0\n",
       "Branch Name        0\n",
       "OC                 0\n",
       "BC              1611\n",
       "BCM             2634\n",
       "MBC             2136\n",
       "MBCDNC          3790\n",
       "MBCV            3845\n",
       "SC              1935\n",
       "SCA             3715\n",
       "ST              4819\n",
       "dtype: int64"
      ]
     },
     "execution_count": 45,
     "metadata": {},
     "output_type": "execute_result"
    }
   ],
   "source": [
    "missing_values = cutoff_data.isnull().sum()\n",
    "missing_values"
   ]
  },
  {
   "cell_type": "code",
   "execution_count": 46,
   "id": "759cd853",
   "metadata": {},
   "outputs": [],
   "source": [
    "mean_value = cutoff_data['OC'].mean()\n",
    "cutoff_data['OC'].fillna(mean_value, inplace=True)\n",
    "mean_value = cutoff_data['BC'].mean()\n",
    "cutoff_data['BC'].fillna(mean_value, inplace=True)\n",
    "mean_value = cutoff_data['BCM'].mean()\n",
    "cutoff_data['BCM'].fillna(mean_value, inplace=True)\n",
    "mean_value = cutoff_data['MBC'].mean()\n",
    "cutoff_data['MBC'].fillna(mean_value, inplace=True)\n",
    "mean_value = cutoff_data['MBCDNC'].mean()\n",
    "cutoff_data['MBCDNC'].fillna(mean_value, inplace=True)\n",
    "mean_value = cutoff_data['MBCV'].mean()\n",
    "cutoff_data['MBCV'].fillna(mean_value, inplace=True)\n",
    "mean_value = cutoff_data['SC'].mean()\n",
    "cutoff_data['SC'].fillna(mean_value, inplace=True)\n",
    "mean_value = cutoff_data['SCA'].mean()\n",
    "cutoff_data['SCA'].fillna(mean_value, inplace=True)\n",
    "mean_value = cutoff_data['ST'].mean()\n",
    "cutoff_data['ST'].fillna(mean_value, inplace=True)"
   ]
  },
  {
   "cell_type": "code",
   "execution_count": 47,
   "id": "fc29ad27",
   "metadata": {},
   "outputs": [
    {
     "data": {
      "text/plain": [
       "College Code    0\n",
       "College Name    0\n",
       "Branch Code     0\n",
       "Branch Name     0\n",
       "OC              0\n",
       "BC              0\n",
       "BCM             0\n",
       "MBC             0\n",
       "MBCDNC          0\n",
       "MBCV            0\n",
       "SC              0\n",
       "SCA             0\n",
       "ST              0\n",
       "dtype: int64"
      ]
     },
     "execution_count": 47,
     "metadata": {},
     "output_type": "execute_result"
    }
   ],
   "source": [
    "missing_values = cutoff_data.isnull().sum()\n",
    "missing_values"
   ]
  },
  {
   "cell_type": "code",
   "execution_count": 48,
   "id": "d8c48c5d",
   "metadata": {},
   "outputs": [
    {
     "data": {
      "image/png": "[encoded data removed]",
      "text/plain": [
       "<Figure size 1200x600 with 1 Axes>"
      ]
     },
     "metadata": {},
     "output_type": "display_data"
    }
   ],
   "source": [
    "college_counts = cutoff_data['College Code'].value_counts()\n",
    "\n",
    "plt.figure(figsize=(12, 6))\n",
    "sns.barplot(x=college_counts.index, y=college_counts.values, palette=\"viridis\")\n",
    "plt.title('Distribution of Colleges')\n",
    "plt.xlabel('College CODE')\n",
    "plt.ylabel('Count')\n",
    "plt.xticks(rotation=45, ha='right')\n",
    "plt.tight_layout()\n",
    "plt.show()"
   ]
  },
  {
   "cell_type": "code",
   "execution_count": 49,
   "id": "e48d41d1",
   "metadata": {},
   "outputs": [
    {
     "name": "stdout",
     "output_type": "stream",
     "text": [
      "<class 'pandas.core.frame.DataFrame'>\n",
      "RangeIndex: 5320 entries, 0 to 5319\n",
      "Data columns (total 13 columns):\n",
      " #   Column        Non-Null Count  Dtype  \n",
      "---  ------        --------------  -----  \n",
      " 0   College Code  5320 non-null   int64  \n",
      " 1   College Name  5320 non-null   object \n",
      " 2   Branch Code   5320 non-null   object \n",
      " 3   Branch Name   5320 non-null   object \n",
      " 4   OC            5320 non-null   int64  \n",
      " 5   BC            3709 non-null   float64\n",
      " 6   BCM           2686 non-null   float64\n",
      " 7   MBC           3184 non-null   float64\n",
      " 8   MBCDNC        1530 non-null   float64\n",
      " 9   MBCV          1475 non-null   float64\n",
      " 10  SC            3385 non-null   float64\n",
      " 11  SCA           1605 non-null   float64\n",
      " 12  ST            501 non-null    float64\n",
      "dtypes: float64(8), int64(2), object(3)\n",
      "memory usage: 540.4+ KB\n"
     ]
    }
   ],
   "source": [
    "rank_data = pd.read_csv('combined_rank.csv')\n",
    "\n",
    "rank_data.info()"
   ]
  },
  {
   "cell_type": "code",
   "execution_count": 51,
   "id": "ac2f8411",
   "metadata": {},
   "outputs": [
    {
     "data": {
      "text/html": [
       "<div>\n",
       "<style scoped>\n",
       "    .dataframe tbody tr th:only-of-type {\n",
       "        vertical-align: middle;\n",
       "    }\n",
       "\n",
       "    .dataframe tbody tr th {\n",
       "        vertical-align: top;\n",
       "    }\n",
       "\n",
       "    .dataframe thead th {\n",
       "        text-align: right;\n",
       "    }\n",
       "</style>\n",
       "<table border=\"1\" class=\"dataframe\">\n",
       "  <thead>\n",
       "    <tr style=\"text-align: right;\">\n",
       "      <th></th>\n",
       "      <th>College Code</th>\n",
       "      <th>OC</th>\n",
       "      <th>BC</th>\n",
       "      <th>BCM</th>\n",
       "      <th>MBC</th>\n",
       "      <th>MBCDNC</th>\n",
       "      <th>MBCV</th>\n",
       "      <th>SC</th>\n",
       "      <th>SCA</th>\n",
       "      <th>ST</th>\n",
       "    </tr>\n",
       "  </thead>\n",
       "  <tbody>\n",
       "    <tr>\n",
       "      <th>count</th>\n",
       "      <td>5320.000000</td>\n",
       "      <td>5320.000000</td>\n",
       "      <td>3709.000000</td>\n",
       "      <td>2686.000000</td>\n",
       "      <td>3184.000000</td>\n",
       "      <td>1530.000000</td>\n",
       "      <td>1475.000000</td>\n",
       "      <td>3385.000000</td>\n",
       "      <td>1605.000000</td>\n",
       "      <td>501.000000</td>\n",
       "    </tr>\n",
       "    <tr>\n",
       "      <th>mean</th>\n",
       "      <td>2863.070865</td>\n",
       "      <td>88700.593421</td>\n",
       "      <td>90770.170127</td>\n",
       "      <td>79105.441176</td>\n",
       "      <td>88700.557475</td>\n",
       "      <td>79649.813072</td>\n",
       "      <td>82567.300339</td>\n",
       "      <td>112970.215657</td>\n",
       "      <td>100741.203115</td>\n",
       "      <td>94057.736527</td>\n",
       "    </tr>\n",
       "    <tr>\n",
       "      <th>std</th>\n",
       "      <td>1463.780891</td>\n",
       "      <td>46703.376037</td>\n",
       "      <td>49294.546271</td>\n",
       "      <td>43417.956824</td>\n",
       "      <td>48136.678970</td>\n",
       "      <td>40030.323022</td>\n",
       "      <td>41831.363767</td>\n",
       "      <td>37804.038534</td>\n",
       "      <td>38247.925669</td>\n",
       "      <td>39927.154515</td>\n",
       "    </tr>\n",
       "    <tr>\n",
       "      <th>min</th>\n",
       "      <td>1.000000</td>\n",
       "      <td>22.000000</td>\n",
       "      <td>0.000000</td>\n",
       "      <td>0.000000</td>\n",
       "      <td>0.000000</td>\n",
       "      <td>196.000000</td>\n",
       "      <td>172.000000</td>\n",
       "      <td>0.000000</td>\n",
       "      <td>0.000000</td>\n",
       "      <td>0.000000</td>\n",
       "    </tr>\n",
       "    <tr>\n",
       "      <th>25%</th>\n",
       "      <td>1436.750000</td>\n",
       "      <td>48070.500000</td>\n",
       "      <td>45861.000000</td>\n",
       "      <td>42773.750000</td>\n",
       "      <td>47379.500000</td>\n",
       "      <td>46905.000000</td>\n",
       "      <td>44992.500000</td>\n",
       "      <td>94623.000000</td>\n",
       "      <td>75376.000000</td>\n",
       "      <td>63293.000000</td>\n",
       "    </tr>\n",
       "    <tr>\n",
       "      <th>50%</th>\n",
       "      <td>2702.000000</td>\n",
       "      <td>93439.000000</td>\n",
       "      <td>98780.000000</td>\n",
       "      <td>80383.000000</td>\n",
       "      <td>93046.500000</td>\n",
       "      <td>83039.000000</td>\n",
       "      <td>88324.000000</td>\n",
       "      <td>126358.000000</td>\n",
       "      <td>108726.000000</td>\n",
       "      <td>103471.000000</td>\n",
       "    </tr>\n",
       "    <tr>\n",
       "      <th>75%</th>\n",
       "      <td>3825.000000</td>\n",
       "      <td>131276.250000</td>\n",
       "      <td>134615.000000</td>\n",
       "      <td>117666.500000</td>\n",
       "      <td>133614.250000</td>\n",
       "      <td>117303.000000</td>\n",
       "      <td>121956.500000</td>\n",
       "      <td>138806.000000</td>\n",
       "      <td>131578.000000</td>\n",
       "      <td>127095.000000</td>\n",
       "    </tr>\n",
       "    <tr>\n",
       "      <th>max</th>\n",
       "      <td>5990.000000</td>\n",
       "      <td>156270.000000</td>\n",
       "      <td>156268.000000</td>\n",
       "      <td>156271.000000</td>\n",
       "      <td>156264.000000</td>\n",
       "      <td>136928.000000</td>\n",
       "      <td>136965.000000</td>\n",
       "      <td>156263.000000</td>\n",
       "      <td>156152.000000</td>\n",
       "      <td>156118.000000</td>\n",
       "    </tr>\n",
       "  </tbody>\n",
       "</table>\n",
       "</div>"
      ],
      "text/plain": [
       "       College Code             OC             BC            BCM  \\\n",
       "count   5320.000000    5320.000000    3709.000000    2686.000000   \n",
       "mean    2863.070865   88700.593421   90770.170127   79105.441176   \n",
       "std     1463.780891   46703.376037   49294.546271   43417.956824   \n",
       "min        1.000000      22.000000       0.000000       0.000000   \n",
       "25%     1436.750000   48070.500000   45861.000000   42773.750000   \n",
       "50%     2702.000000   93439.000000   98780.000000   80383.000000   \n",
       "75%     3825.000000  131276.250000  134615.000000  117666.500000   \n",
       "max     5990.000000  156270.000000  156268.000000  156271.000000   \n",
       "\n",
       "                 MBC         MBCDNC           MBCV             SC  \\\n",
       "count    3184.000000    1530.000000    1475.000000    3385.000000   \n",
       "mean    88700.557475   79649.813072   82567.300339  112970.215657   \n",
       "std     48136.678970   40030.323022   41831.363767   37804.038534   \n",
       "min         0.000000     196.000000     172.000000       0.000000   \n",
       "25%     47379.500000   46905.000000   44992.500000   94623.000000   \n",
       "50%     93046.500000   83039.000000   88324.000000  126358.000000   \n",
       "75%    133614.250000  117303.000000  121956.500000  138806.000000   \n",
       "max    156264.000000  136928.000000  136965.000000  156263.000000   \n",
       "\n",
       "                 SCA             ST  \n",
       "count    1605.000000     501.000000  \n",
       "mean   100741.203115   94057.736527  \n",
       "std     38247.925669   39927.154515  \n",
       "min         0.000000       0.000000  \n",
       "25%     75376.000000   63293.000000  \n",
       "50%    108726.000000  103471.000000  \n",
       "75%    131578.000000  127095.000000  \n",
       "max    156152.000000  156118.000000  "
      ]
     },
     "execution_count": 51,
     "metadata": {},
     "output_type": "execute_result"
    }
   ],
   "source": [
    "rank_data.describe()"
   ]
  },
  {
   "cell_type": "code",
   "execution_count": 52,
   "id": "d80b32d8",
   "metadata": {},
   "outputs": [
    {
     "data": {
      "text/plain": [
       "College Code       0\n",
       "College Name       0\n",
       "Branch Code        0\n",
       "Branch Name        0\n",
       "OC                 0\n",
       "BC              1611\n",
       "BCM             2634\n",
       "MBC             2136\n",
       "MBCDNC          3790\n",
       "MBCV            3845\n",
       "SC              1935\n",
       "SCA             3715\n",
       "ST              4819\n",
       "dtype: int64"
      ]
     },
     "execution_count": 52,
     "metadata": {},
     "output_type": "execute_result"
    }
   ],
   "source": [
    "missing_values = rank_data.isnull().sum()\n",
    "missing_values"
   ]
  },
  {
   "cell_type": "code",
   "execution_count": 53,
   "id": "80b2c524",
   "metadata": {},
   "outputs": [],
   "source": [
    "mean_value = rank_data['OC'].mean()\n",
    "rank_data['OC'].fillna(mean_value, inplace=True)\n",
    "mean_value = rank_data['BC'].mean()\n",
    "rank_data['BC'].fillna(mean_value, inplace=True)\n",
    "mean_value = rank_data['BCM'].mean()\n",
    "rank_data['BCM'].fillna(mean_value, inplace=True)\n",
    "mean_value = rank_data['MBC'].mean()\n",
    "rank_data['MBC'].fillna(mean_value, inplace=True)\n",
    "mean_value = rank_data['MBCDNC'].mean()\n",
    "rank_data['MBCDNC'].fillna(mean_value, inplace=True)\n",
    "mean_value = rank_data['MBCV'].mean()\n",
    "rank_data['MBCV'].fillna(mean_value, inplace=True)\n",
    "mean_value = rank_data['SC'].mean()\n",
    "rank_data['SC'].fillna(mean_value, inplace=True)\n",
    "mean_value = rank_data['SCA'].mean()\n",
    "rank_data['SCA'].fillna(mean_value, inplace=True)\n",
    "mean_value = rank_data['ST'].mean()\n",
    "rank_data['ST'].fillna(mean_value, inplace=True)"
   ]
  },
  {
   "cell_type": "code",
   "execution_count": 54,
   "id": "79c3f438",
   "metadata": {},
   "outputs": [
    {
     "data": {
      "text/plain": [
       "College Code    0\n",
       "College Name    0\n",
       "Branch Code     0\n",
       "Branch Name     0\n",
       "OC              0\n",
       "BC              0\n",
       "BCM             0\n",
       "MBC             0\n",
       "MBCDNC          0\n",
       "MBCV            0\n",
       "SC              0\n",
       "SCA             0\n",
       "ST              0\n",
       "dtype: int64"
      ]
     },
     "execution_count": 54,
     "metadata": {},
     "output_type": "execute_result"
    }
   ],
   "source": [
    "missing_values = cutoff_data.isnull().sum()\n",
    "missing_values"
   ]
  },
  {
   "cell_type": "code",
   "execution_count": 55,
   "id": "4d95849c",
   "metadata": {},
   "outputs": [
    {
     "data": {
      "image/png": "[encoded data removed]",
      "text/plain": [
       "<Figure size 1200x600 with 1 Axes>"
      ]
     },
     "metadata": {},
     "output_type": "display_data"
    }
   ],
   "source": [
    "college_counts = cutoff_data['College Code'].value_counts()\n",
    "\n",
    "plt.figure(figsize=(12, 6))\n",
    "sns.barplot(x=college_counts.index, y=college_counts.values, palette=\"viridis\")\n",
    "plt.title('Distribution of Colleges')\n",
    "plt.xlabel('College CODE')\n",
    "plt.ylabel('Count')\n",
    "plt.xticks(rotation=45, ha='right')\n",
    "plt.tight_layout()\n",
    "plt.show()"
   ]
  },
  {
   "cell_type": "code",
   "execution_count": 56,
   "id": "139fffdb",
   "metadata": {},
   "outputs": [],
   "source": [
    "rank_data = rank_data.rename(columns={'BC': \"BC_R\"})\n",
    "rank_data = rank_data.rename(columns={'OC': \"OC_R\"})\n",
    "rank_data = rank_data.rename(columns={'BCM': \"BCM_R\"})\n",
    "rank_data = rank_data.rename(columns={'MBC': \"MBC_R\"})\n",
    "rank_data = rank_data.rename(columns={'MBCDNC': \"MBCDNC_R\"})\n",
    "rank_data = rank_data.rename(columns={'MBCV': \"MBCV_R\"})\n",
    "rank_data = rank_data.rename(columns={'SC': \"SC_R\"})\n",
    "rank_data = rank_data.rename(columns={'SCA': \"SCA_R\"})\n",
    "rank_data = rank_data.rename(columns={'ST': \"ST_R\"})"
   ]
  },
  {
   "cell_type": "code",
   "execution_count": 57,
   "id": "dadeec69",
   "metadata": {},
   "outputs": [
    {
     "data": {
      "text/html": [
       "<div>\n",
       "<style scoped>\n",
       "    .dataframe tbody tr th:only-of-type {\n",
       "        vertical-align: middle;\n",
       "    }\n",
       "\n",
       "    .dataframe tbody tr th {\n",
       "        vertical-align: top;\n",
       "    }\n",
       "\n",
       "    .dataframe thead th {\n",
       "        text-align: right;\n",
       "    }\n",
       "</style>\n",
       "<table border=\"1\" class=\"dataframe\">\n",
       "  <thead>\n",
       "    <tr style=\"text-align: right;\">\n",
       "      <th></th>\n",
       "      <th>College Code</th>\n",
       "      <th>College Name</th>\n",
       "      <th>Branch Code</th>\n",
       "      <th>Branch Name</th>\n",
       "      <th>OC_R</th>\n",
       "      <th>BC_R</th>\n",
       "      <th>BCM_R</th>\n",
       "      <th>MBC_R</th>\n",
       "      <th>MBCDNC_R</th>\n",
       "      <th>MBCV_R</th>\n",
       "      <th>SC_R</th>\n",
       "      <th>SCA_R</th>\n",
       "      <th>ST_R</th>\n",
       "    </tr>\n",
       "  </thead>\n",
       "  <tbody>\n",
       "    <tr>\n",
       "      <th>0</th>\n",
       "      <td>1</td>\n",
       "      <td>University Departments of Anna University, Che...</td>\n",
       "      <td>BY</td>\n",
       "      <td>BIO MEDICAL ENGINEERING (SS)</td>\n",
       "      <td>1248</td>\n",
       "      <td>1998.0</td>\n",
       "      <td>2390.0</td>\n",
       "      <td>1420.0</td>\n",
       "      <td>7177.0</td>\n",
       "      <td>3397.0</td>\n",
       "      <td>8937.0</td>\n",
       "      <td>22463.0</td>\n",
       "      <td>26147.0</td>\n",
       "    </tr>\n",
       "    <tr>\n",
       "      <th>1</th>\n",
       "      <td>1</td>\n",
       "      <td>University Departments of Anna University, Che...</td>\n",
       "      <td>CE</td>\n",
       "      <td>CIVIL ENGINEERING</td>\n",
       "      <td>2326</td>\n",
       "      <td>3227.0</td>\n",
       "      <td>6363.0</td>\n",
       "      <td>2527.0</td>\n",
       "      <td>6612.0</td>\n",
       "      <td>5193.0</td>\n",
       "      <td>7316.0</td>\n",
       "      <td>23541.0</td>\n",
       "      <td>43295.0</td>\n",
       "    </tr>\n",
       "    <tr>\n",
       "      <th>2</th>\n",
       "      <td>1</td>\n",
       "      <td>University Departments of Anna University, Che...</td>\n",
       "      <td>CM</td>\n",
       "      <td>COMPUTER SCIENCE AND ENGINEERING (SS)</td>\n",
       "      <td>175</td>\n",
       "      <td>260.0</td>\n",
       "      <td>631.0</td>\n",
       "      <td>312.0</td>\n",
       "      <td>501.0</td>\n",
       "      <td>771.0</td>\n",
       "      <td>2940.0</td>\n",
       "      <td>3853.0</td>\n",
       "      <td>5838.0</td>\n",
       "    </tr>\n",
       "    <tr>\n",
       "      <th>3</th>\n",
       "      <td>1</td>\n",
       "      <td>University Departments of Anna University, Che...</td>\n",
       "      <td>CS</td>\n",
       "      <td>COMPUTER SCIENCE AND ENGINEERING</td>\n",
       "      <td>29</td>\n",
       "      <td>111.0</td>\n",
       "      <td>388.0</td>\n",
       "      <td>67.0</td>\n",
       "      <td>196.0</td>\n",
       "      <td>172.0</td>\n",
       "      <td>551.0</td>\n",
       "      <td>2101.0</td>\n",
       "      <td>3779.0</td>\n",
       "    </tr>\n",
       "    <tr>\n",
       "      <th>4</th>\n",
       "      <td>1</td>\n",
       "      <td>University Departments of Anna University, Che...</td>\n",
       "      <td>EC</td>\n",
       "      <td>ELECTRONICS AND COMMUNICATION ENGINEERING</td>\n",
       "      <td>218</td>\n",
       "      <td>332.0</td>\n",
       "      <td>789.0</td>\n",
       "      <td>368.0</td>\n",
       "      <td>962.0</td>\n",
       "      <td>870.0</td>\n",
       "      <td>1680.0</td>\n",
       "      <td>4067.0</td>\n",
       "      <td>3514.0</td>\n",
       "    </tr>\n",
       "  </tbody>\n",
       "</table>\n",
       "</div>"
      ],
      "text/plain": [
       "   College Code                                       College Name  \\\n",
       "0             1  University Departments of Anna University, Che...   \n",
       "1             1  University Departments of Anna University, Che...   \n",
       "2             1  University Departments of Anna University, Che...   \n",
       "3             1  University Departments of Anna University, Che...   \n",
       "4             1  University Departments of Anna University, Che...   \n",
       "\n",
       "  Branch Code                                Branch Name  OC_R    BC_R  \\\n",
       "0          BY               BIO MEDICAL ENGINEERING (SS)  1248  1998.0   \n",
       "1          CE                          CIVIL ENGINEERING  2326  3227.0   \n",
       "2          CM      COMPUTER SCIENCE AND ENGINEERING (SS)   175   260.0   \n",
       "3          CS           COMPUTER SCIENCE AND ENGINEERING    29   111.0   \n",
       "4          EC  ELECTRONICS AND COMMUNICATION ENGINEERING   218   332.0   \n",
       "\n",
       "    BCM_R   MBC_R  MBCDNC_R  MBCV_R    SC_R    SCA_R     ST_R  \n",
       "0  2390.0  1420.0    7177.0  3397.0  8937.0  22463.0  26147.0  \n",
       "1  6363.0  2527.0    6612.0  5193.0  7316.0  23541.0  43295.0  \n",
       "2   631.0   312.0     501.0   771.0  2940.0   3853.0   5838.0  \n",
       "3   388.0    67.0     196.0   172.0   551.0   2101.0   3779.0  \n",
       "4   789.0   368.0     962.0   870.0  1680.0   4067.0   3514.0  "
      ]
     },
     "execution_count": 57,
     "metadata": {},
     "output_type": "execute_result"
    }
   ],
   "source": [
    "rank_data.head()"
   ]
  },
  {
   "cell_type": "code",
   "execution_count": 58,
   "id": "5fd3fb47",
   "metadata": {},
   "outputs": [],
   "source": [
    "df1 = cutoff_data\n",
    "df2 = rank_data"
   ]
  },
  {
   "cell_type": "code",
   "execution_count": 59,
   "id": "4d65bc71",
   "metadata": {},
   "outputs": [
    {
     "data": {
      "text/html": [
       "<div>\n",
       "<style scoped>\n",
       "    .dataframe tbody tr th:only-of-type {\n",
       "        vertical-align: middle;\n",
       "    }\n",
       "\n",
       "    .dataframe tbody tr th {\n",
       "        vertical-align: top;\n",
       "    }\n",
       "\n",
       "    .dataframe thead th {\n",
       "        text-align: right;\n",
       "    }\n",
       "</style>\n",
       "<table border=\"1\" class=\"dataframe\">\n",
       "  <thead>\n",
       "    <tr style=\"text-align: right;\">\n",
       "      <th></th>\n",
       "      <th>College Code</th>\n",
       "      <th>College Name</th>\n",
       "      <th>Branch Code</th>\n",
       "      <th>Branch Name</th>\n",
       "      <th>OC</th>\n",
       "      <th>BC</th>\n",
       "      <th>BCM</th>\n",
       "      <th>MBC</th>\n",
       "      <th>MBCDNC</th>\n",
       "      <th>MBCV</th>\n",
       "      <th>...</th>\n",
       "      <th>ST</th>\n",
       "      <th>OC_R</th>\n",
       "      <th>BC_R</th>\n",
       "      <th>BCM_R</th>\n",
       "      <th>MBC_R</th>\n",
       "      <th>MBCDNC_R</th>\n",
       "      <th>MBCV_R</th>\n",
       "      <th>SC_R</th>\n",
       "      <th>SCA_R</th>\n",
       "      <th>ST_R</th>\n",
       "    </tr>\n",
       "  </thead>\n",
       "  <tbody>\n",
       "    <tr>\n",
       "      <th>0</th>\n",
       "      <td>1</td>\n",
       "      <td>University Departments of Anna University, Che...</td>\n",
       "      <td>BY</td>\n",
       "      <td>BIO MEDICAL ENGINEERING (SS)</td>\n",
       "      <td>195.00</td>\n",
       "      <td>194.000000</td>\n",
       "      <td>193.500</td>\n",
       "      <td>194.775</td>\n",
       "      <td>190.000</td>\n",
       "      <td>192.50</td>\n",
       "      <td>...</td>\n",
       "      <td>181.000</td>\n",
       "      <td>1248</td>\n",
       "      <td>1998.0</td>\n",
       "      <td>2390.0</td>\n",
       "      <td>1420.0</td>\n",
       "      <td>7177.0</td>\n",
       "      <td>3397.0</td>\n",
       "      <td>8937.0</td>\n",
       "      <td>22463.0</td>\n",
       "      <td>26147.0</td>\n",
       "    </tr>\n",
       "    <tr>\n",
       "      <th>1</th>\n",
       "      <td>1</td>\n",
       "      <td>University Departments of Anna University, Che...</td>\n",
       "      <td>CE</td>\n",
       "      <td>CIVIL ENGINEERING</td>\n",
       "      <td>193.50</td>\n",
       "      <td>192.685000</td>\n",
       "      <td>190.500</td>\n",
       "      <td>193.330</td>\n",
       "      <td>190.275</td>\n",
       "      <td>191.24</td>\n",
       "      <td>...</td>\n",
       "      <td>174.635</td>\n",
       "      <td>2326</td>\n",
       "      <td>3227.0</td>\n",
       "      <td>6363.0</td>\n",
       "      <td>2527.0</td>\n",
       "      <td>6612.0</td>\n",
       "      <td>5193.0</td>\n",
       "      <td>7316.0</td>\n",
       "      <td>23541.0</td>\n",
       "      <td>43295.0</td>\n",
       "    </tr>\n",
       "    <tr>\n",
       "      <th>2</th>\n",
       "      <td>1</td>\n",
       "      <td>University Departments of Anna University, Che...</td>\n",
       "      <td>CM</td>\n",
       "      <td>COMPUTER SCIENCE AND ENGINEERING (SS)</td>\n",
       "      <td>198.00</td>\n",
       "      <td>197.666667</td>\n",
       "      <td>196.375</td>\n",
       "      <td>197.500</td>\n",
       "      <td>196.760</td>\n",
       "      <td>196.00</td>\n",
       "      <td>...</td>\n",
       "      <td>190.815</td>\n",
       "      <td>175</td>\n",
       "      <td>260.0</td>\n",
       "      <td>631.0</td>\n",
       "      <td>312.0</td>\n",
       "      <td>501.0</td>\n",
       "      <td>771.0</td>\n",
       "      <td>2940.0</td>\n",
       "      <td>3853.0</td>\n",
       "      <td>5838.0</td>\n",
       "    </tr>\n",
       "    <tr>\n",
       "      <th>3</th>\n",
       "      <td>1</td>\n",
       "      <td>University Departments of Anna University, Che...</td>\n",
       "      <td>CS</td>\n",
       "      <td>COMPUTER SCIENCE AND ENGINEERING</td>\n",
       "      <td>199.00</td>\n",
       "      <td>198.120000</td>\n",
       "      <td>197.020</td>\n",
       "      <td>198.625</td>\n",
       "      <td>198.000</td>\n",
       "      <td>198.00</td>\n",
       "      <td>...</td>\n",
       "      <td>192.165</td>\n",
       "      <td>29</td>\n",
       "      <td>111.0</td>\n",
       "      <td>388.0</td>\n",
       "      <td>67.0</td>\n",
       "      <td>196.0</td>\n",
       "      <td>172.0</td>\n",
       "      <td>551.0</td>\n",
       "      <td>2101.0</td>\n",
       "      <td>3779.0</td>\n",
       "    </tr>\n",
       "    <tr>\n",
       "      <th>4</th>\n",
       "      <td>1</td>\n",
       "      <td>University Departments of Anna University, Che...</td>\n",
       "      <td>EC</td>\n",
       "      <td>ELECTRONICS AND COMMUNICATION ENGINEERING</td>\n",
       "      <td>197.99</td>\n",
       "      <td>197.333333</td>\n",
       "      <td>196.000</td>\n",
       "      <td>197.130</td>\n",
       "      <td>195.540</td>\n",
       "      <td>195.78</td>\n",
       "      <td>...</td>\n",
       "      <td>192.500</td>\n",
       "      <td>218</td>\n",
       "      <td>332.0</td>\n",
       "      <td>789.0</td>\n",
       "      <td>368.0</td>\n",
       "      <td>962.0</td>\n",
       "      <td>870.0</td>\n",
       "      <td>1680.0</td>\n",
       "      <td>4067.0</td>\n",
       "      <td>3514.0</td>\n",
       "    </tr>\n",
       "  </tbody>\n",
       "</table>\n",
       "<p>5 rows × 22 columns</p>\n",
       "</div>"
      ],
      "text/plain": [
       "   College Code                                       College Name  \\\n",
       "0             1  University Departments of Anna University, Che...   \n",
       "1             1  University Departments of Anna University, Che...   \n",
       "2             1  University Departments of Anna University, Che...   \n",
       "3             1  University Departments of Anna University, Che...   \n",
       "4             1  University Departments of Anna University, Che...   \n",
       "\n",
       "  Branch Code                                Branch Name      OC          BC  \\\n",
       "0          BY               BIO MEDICAL ENGINEERING (SS)  195.00  194.000000   \n",
       "1          CE                          CIVIL ENGINEERING  193.50  192.685000   \n",
       "2          CM      COMPUTER SCIENCE AND ENGINEERING (SS)  198.00  197.666667   \n",
       "3          CS           COMPUTER SCIENCE AND ENGINEERING  199.00  198.120000   \n",
       "4          EC  ELECTRONICS AND COMMUNICATION ENGINEERING  197.99  197.333333   \n",
       "\n",
       "       BCM      MBC   MBCDNC    MBCV  ...       ST  OC_R    BC_R   BCM_R  \\\n",
       "0  193.500  194.775  190.000  192.50  ...  181.000  1248  1998.0  2390.0   \n",
       "1  190.500  193.330  190.275  191.24  ...  174.635  2326  3227.0  6363.0   \n",
       "2  196.375  197.500  196.760  196.00  ...  190.815   175   260.0   631.0   \n",
       "3  197.020  198.625  198.000  198.00  ...  192.165    29   111.0   388.0   \n",
       "4  196.000  197.130  195.540  195.78  ...  192.500   218   332.0   789.0   \n",
       "\n",
       "    MBC_R  MBCDNC_R  MBCV_R    SC_R    SCA_R     ST_R  \n",
       "0  1420.0    7177.0  3397.0  8937.0  22463.0  26147.0  \n",
       "1  2527.0    6612.0  5193.0  7316.0  23541.0  43295.0  \n",
       "2   312.0     501.0   771.0  2940.0   3853.0   5838.0  \n",
       "3    67.0     196.0   172.0   551.0   2101.0   3779.0  \n",
       "4   368.0     962.0   870.0  1680.0   4067.0   3514.0  \n",
       "\n",
       "[5 rows x 22 columns]"
      ]
     },
     "execution_count": 59,
     "metadata": {},
     "output_type": "execute_result"
    }
   ],
   "source": [
    "merged_df = pd.concat([df1, df2[['OC_R', 'BC_R', 'BCM_R', 'MBC_R', 'MBCDNC_R', 'MBCV_R', 'SC_R', 'SCA_R', 'ST_R']]], axis=1)\n",
    "\n",
    "merged_df.head()"
   ]
  },
  {
   "cell_type": "code",
   "execution_count": 60,
   "id": "6acaf48e",
   "metadata": {},
   "outputs": [
    {
     "data": {
      "text/plain": [
       "College Code    0\n",
       "College Name    0\n",
       "Branch Code     0\n",
       "Branch Name     0\n",
       "OC              0\n",
       "BC              0\n",
       "BCM             0\n",
       "MBC             0\n",
       "MBCDNC          0\n",
       "MBCV            0\n",
       "SC              0\n",
       "SCA             0\n",
       "ST              0\n",
       "OC_R            0\n",
       "BC_R            0\n",
       "BCM_R           0\n",
       "MBC_R           0\n",
       "MBCDNC_R        0\n",
       "MBCV_R          0\n",
       "SC_R            0\n",
       "SCA_R           0\n",
       "ST_R            0\n",
       "dtype: int64"
      ]
     },
     "execution_count": 60,
     "metadata": {},
     "output_type": "execute_result"
    }
   ],
   "source": [
    "missing_values = merged_df.isnull().sum()\n",
    "missing_values"
   ]
  },
  {
   "cell_type": "code",
   "execution_count": 34,
   "id": "f25d08cb",
   "metadata": {},
   "outputs": [],
   "source": [
    "mean_value = merged_df['OC_R'].mean()\n",
    "merged_df['OC_R'].fillna(mean_value, inplace=True)\n",
    "mean_value = merged_df['BC_R'].mean()\n",
    "merged_df['BC_R'].fillna(mean_value, inplace=True)\n",
    "mean_value = merged_df['BCM_R'].mean()\n",
    "merged_df['BCM_R'].fillna(mean_value, inplace=True)\n",
    "mean_value = merged_df['MBC_R'].mean()\n",
    "merged_df['MBC_R'].fillna(mean_value, inplace=True)\n",
    "mean_value = merged_df['MBCDNC_R'].mean()\n",
    "merged_df['MBCDNC_R'].fillna(mean_value, inplace=True)\n",
    "mean_value = merged_df['MBCV_R'].mean()\n",
    "merged_df['MBCV_R'].fillna(mean_value, inplace=True)\n",
    "mean_value = merged_df['SC_R'].mean()\n",
    "merged_df['SC_R'].fillna(mean_value, inplace=True)\n",
    "mean_value = merged_df['SCA_R'].mean()\n",
    "merged_df['SCA_R'].fillna(mean_value, inplace=True)\n",
    "mean_value = merged_df['ST_R'].mean()\n",
    "merged_df['ST_R'].fillna(mean_value, inplace=True)"
   ]
  },
  {
   "cell_type": "code",
   "execution_count": 61,
   "id": "46f3a1bb",
   "metadata": {},
   "outputs": [],
   "source": [
    "le = LabelEncoder()\n",
    "merged_df['Branch Name'] = le.fit_transform(merged_df['Branch Name'])"
   ]
  },
  {
   "cell_type": "code",
   "execution_count": 69,
   "id": "f0ec9409",
   "metadata": {},
   "outputs": [],
   "source": [
    "\n",
    "X = merged_df.drop(['College Name', 'Branch Code','College Code','MBCDNC','MBCV','MBCDNC_R','MBCV_R'], axis=1)\n",
    "\n",
    "y = merged_df['Branch Name']\n",
    "\n",
    "X_train, X_test, y_train, y_test = train_test_split(X, y, test_size=0.2, random_state=42)\n"
   ]
  },
  {
   "cell_type": "code",
   "execution_count": 70,
   "id": "3c1367f5",
   "metadata": {},
   "outputs": [
    {
     "name": "stdout",
     "output_type": "stream",
     "text": [
      "<class 'pandas.core.frame.DataFrame'>\n",
      "RangeIndex: 5320 entries, 0 to 5319\n",
      "Data columns (total 15 columns):\n",
      " #   Column       Non-Null Count  Dtype  \n",
      "---  ------       --------------  -----  \n",
      " 0   Branch Name  5320 non-null   int32  \n",
      " 1   OC           5320 non-null   float64\n",
      " 2   BC           5320 non-null   float64\n",
      " 3   BCM          5320 non-null   float64\n",
      " 4   MBC          5320 non-null   float64\n",
      " 5   SC           5320 non-null   float64\n",
      " 6   SCA          5320 non-null   float64\n",
      " 7   ST           5320 non-null   float64\n",
      " 8   OC_R         5320 non-null   int64  \n",
      " 9   BC_R         5320 non-null   float64\n",
      " 10  BCM_R        5320 non-null   float64\n",
      " 11  MBC_R        5320 non-null   float64\n",
      " 12  SC_R         5320 non-null   float64\n",
      " 13  SCA_R        5320 non-null   float64\n",
      " 14  ST_R         5320 non-null   float64\n",
      "dtypes: float64(13), int32(1), int64(1)\n",
      "memory usage: 602.8 KB\n"
     ]
    }
   ],
   "source": [
    "X.info()"
   ]
  },
  {
   "cell_type": "code",
   "execution_count": 73,
   "id": "05f5fed7",
   "metadata": {},
   "outputs": [
    {
     "name": "stdout",
     "output_type": "stream",
     "text": [
      "R-squared using Linear Regression:  100.0\n"
     ]
    }
   ],
   "source": [
    "from sklearn.metrics import r2_score\n",
    "\n",
    "model_lr = LinearRegression()\n",
    "model_lr.fit(X_train, y_train)\n",
    "Y_pred_lr = model_lr.predict(X_test)\n",
    "\n",
    "r2_lr = r2_score(y_test, Y_pred_lr)\n",
    "print(\"R-squared using Linear Regression: \", r2_lr * 100)"
   ]
  },
  {
   "cell_type": "code",
   "execution_count": 72,
   "id": "f9fedd01",
   "metadata": {},
   "outputs": [
    {
     "name": "stdout",
     "output_type": "stream",
     "text": [
      "Epoch 1/10\n",
      "133/133 [==============================] - 2s 7ms/step - loss: -1584.2823 - accuracy: 0.0023 - val_loss: -7081.4263 - val_accuracy: 9.3985e-04\n",
      "Epoch 2/10\n",
      "133/133 [==============================] - 1s 4ms/step - loss: -34348.5430 - accuracy: 0.0023 - val_loss: -81389.4609 - val_accuracy: 9.3985e-04\n",
      "Epoch 3/10\n",
      "133/133 [==============================] - 1s 4ms/step - loss: -178829.9375 - accuracy: 0.0023 - val_loss: -311989.0625 - val_accuracy: 9.3985e-04\n",
      "Epoch 4/10\n",
      "133/133 [==============================] - 1s 4ms/step - loss: -516623.8750 - accuracy: 0.0023 - val_loss: -774383.3750 - val_accuracy: 9.3985e-04\n",
      "Epoch 5/10\n",
      "133/133 [==============================] - 1s 4ms/step - loss: -1114851.1250 - accuracy: 0.0023 - val_loss: -1533074.5000 - val_accuracy: 9.3985e-04\n",
      "Epoch 6/10\n",
      "133/133 [==============================] - 0s 4ms/step - loss: -2035885.7500 - accuracy: 0.0023 - val_loss: -2637990.2500 - val_accuracy: 9.3985e-04\n",
      "Epoch 7/10\n",
      "133/133 [==============================] - 1s 4ms/step - loss: -3314517.7500 - accuracy: 0.0023 - val_loss: -4141020.7500 - val_accuracy: 9.3985e-04\n",
      "Epoch 8/10\n",
      "133/133 [==============================] - 1s 4ms/step - loss: -5056425.5000 - accuracy: 0.0023 - val_loss: -6094843.0000 - val_accuracy: 9.3985e-04\n",
      "Epoch 9/10\n",
      "133/133 [==============================] - 1s 4ms/step - loss: -7187319.0000 - accuracy: 0.0023 - val_loss: -8509482.0000 - val_accuracy: 9.3985e-04\n",
      "Epoch 10/10\n",
      "133/133 [==============================] - 0s 4ms/step - loss: -9850970.0000 - accuracy: 0.0023 - val_loss: -11425436.0000 - val_accuracy: 9.3985e-04\n",
      "Training accuracy: 2.3496239446103573\n",
      "Training loss: -9850970000.0\n"
     ]
    }
   ],
   "source": [
    "from sklearn.preprocessing import MinMaxScaler\n",
    "from keras.models import Sequential\n",
    "from keras.layers import LSTM, Dropout, Dense\n",
    "from keras.layers import Embedding, Conv1D, MaxPooling1D, Bidirectional\n",
    "from tensorflow.keras.layers import Dense, Dropout,Flatten\n",
    "\n",
    "\n",
    "\n",
    "scaler = MinMaxScaler()\n",
    "X_train_scaled = scaler.fit_transform(X_train)\n",
    "X_test_scaled = scaler.transform(X_test)\n",
    "\n",
    "X_train_reshaped = X_train_scaled.reshape((X_train_scaled.shape[0], X_train_scaled.shape[1], 1))\n",
    "X_test_reshaped = X_test_scaled.reshape((X_test_scaled.shape[0], X_test_scaled.shape[1], 1))\n",
    "cnn_model = Sequential()\n",
    "cnn_model.add(Conv1D(filters=64, kernel_size=3, activation='relu', input_shape=(X_train_reshaped.shape[1], X_train_reshaped.shape[2])))\n",
    "cnn_model.add(MaxPooling1D(pool_size=2))\n",
    "cnn_model.add(Dropout(0.2))\n",
    "cnn_model.add(Conv1D(filters=32, kernel_size=3, activation='relu'))\n",
    "cnn_model.add(MaxPooling1D(pool_size=2))\n",
    "cnn_model.add(Dropout(0.2))\n",
    "cnn_model.add(Flatten())\n",
    "cnn_model.add(Dense(units=1, activation='sigmoid'))\n",
    "cnn_model.compile(optimizer='adam', loss='binary_crossentropy', metrics=['accuracy'])\n",
    "history = cnn_model.fit(X_train_reshaped, y_train, epochs=10, batch_size=32, validation_data=(X_test_reshaped, y_test))\n",
    "print(\"Training accuracy:\", history.history['accuracy'][-1] *1000)\n",
    "print(\"Training loss:\", history.history['loss'][-1]*1000)"
   ]
  },
  {
   "cell_type": "code",
   "execution_count": 98,
   "id": "fcfd3347",
   "metadata": {},
   "outputs": [
    {
     "name": "stdout",
     "output_type": "stream",
     "text": [
      "      College Code       OC\n",
      "2629          1014  167.500\n",
      "511           1401  169.065\n",
      "62            1015  172.820\n",
      "3128          1409  135.500\n",
      "4233          2740  152.500\n",
      "...            ...      ...\n",
      "3092          1399  192.000\n",
      "3772          2628   92.000\n",
      "5191          5851   95.000\n",
      "5226          5907   95.500\n",
      "860           2328  166.090\n",
      "\n",
      "[4256 rows x 2 columns]\n"
     ]
    }
   ],
   "source": [
    "X_columns = ['College Code', 'OC']\n",
    "y_column = 'OC_R'  \n",
    "\n",
    "X = merged_df[X_columns]\n",
    "y = merged_df[y_column]\n",
    "\n",
    "X_train, X_test, y_train, y_test = train_test_split(X, y, test_size=0.2, random_state=42)\n",
    "\n",
    "print(X_train)"
   ]
  },
  {
   "cell_type": "code",
   "execution_count": 99,
   "id": "8407767d",
   "metadata": {},
   "outputs": [
    {
     "name": "stdout",
     "output_type": "stream",
     "text": [
      "R-squared: 87.06473851025038\n"
     ]
    }
   ],
   "source": [
    "model_1 = LinearRegression()\n",
    "model_1.fit(X_train, y_train)\n",
    "\n",
    "y_pred = model_1.predict(X_test)\n",
    "from sklearn.metrics import r2_score\n",
    "r2 = r2_score(y_test, y_pred)\n",
    "print(f'R-squared: {r2*100}')"
   ]
  },
  {
   "cell_type": "code",
   "execution_count": 100,
   "id": "f7fcece1",
   "metadata": {},
   "outputs": [],
   "source": [
    "with open('MODEL_OC.pkl', 'wb') as file:\n",
    "    pickle.dump(model_1, file)"
   ]
  },
  {
   "cell_type": "code",
   "execution_count": 101,
   "id": "43bab5b5",
   "metadata": {},
   "outputs": [
    {
     "name": "stdout",
     "output_type": "stream",
     "text": [
      "[51364.3620183]\n"
     ]
    },
    {
     "name": "stderr",
     "output_type": "stream",
     "text": [
      "C:\\Users\\Admin\\anaconda3\\Lib\\site-packages\\sklearn\\base.py:493: UserWarning: X does not have valid feature names, but LinearRegression was fitted with feature names\n",
      "  warnings.warn(\n"
     ]
    }
   ],
   "source": [
    "data = np.array([[40,167]])\n",
    "y_pred = model_1.predict(data)\n",
    "print(y_pred)"
   ]
  },
  {
   "cell_type": "code",
   "execution_count": 102,
   "id": "d1836d72",
   "metadata": {},
   "outputs": [
    {
     "name": "stdout",
     "output_type": "stream",
     "text": [
      "      College Code          BC\n",
      "2629          1014  150.500000\n",
      "511           1401  163.000000\n",
      "62            1015  167.500000\n",
      "3128          1409  121.000000\n",
      "4233          2740  147.000000\n",
      "...            ...         ...\n",
      "3092          1399  190.000000\n",
      "3772          2628   87.000000\n",
      "5191          5851  138.626586\n",
      "5226          5907  138.626586\n",
      "860           2328  146.625000\n",
      "\n",
      "[4256 rows x 2 columns]\n"
     ]
    }
   ],
   "source": [
    "X_columns = ['College Code', 'BC']\n",
    "y_column = 'BC_R'  \n",
    "\n",
    "X = merged_df[X_columns]\n",
    "y = merged_df[y_column]\n",
    "\n",
    "X_train, X_test, y_train, y_test = train_test_split(X, y, test_size=0.2, random_state=42)\n",
    "\n",
    "print(X_train)"
   ]
  },
  {
   "cell_type": "code",
   "execution_count": 103,
   "id": "f39c6432",
   "metadata": {},
   "outputs": [
    {
     "name": "stdout",
     "output_type": "stream",
     "text": [
      "R-squared: 88.50420762130973\n"
     ]
    }
   ],
   "source": [
    "model_BC = LinearRegression()\n",
    "model_BC.fit(X_train, y_train)\n",
    "\n",
    "y_pred = model_BC.predict(X_test)\n",
    "from sklearn.metrics import r2_score\n",
    "r2 = r2_score(y_test, y_pred)\n",
    "print(f'R-squared: {r2*100}')"
   ]
  },
  {
   "cell_type": "code",
   "execution_count": 104,
   "id": "1a3e8fdb",
   "metadata": {},
   "outputs": [],
   "source": [
    "with open('model_BC.pkl', 'wb') as file:\n",
    "    pickle.dump(model_BC, file)"
   ]
  },
  {
   "cell_type": "code",
   "execution_count": 105,
   "id": "64745aeb",
   "metadata": {},
   "outputs": [
    {
     "name": "stdout",
     "output_type": "stream",
     "text": [
      "      College Code         BCM\n",
      "2629          1014  134.500000\n",
      "511           1401  148.387916\n",
      "62            1015  168.475000\n",
      "3128          1409  148.387916\n",
      "4233          2740  144.000000\n",
      "...            ...         ...\n",
      "3092          1399  191.000000\n",
      "3772          2628  148.387916\n",
      "5191          5851  148.387916\n",
      "5226          5907   83.500000\n",
      "860           2328  147.525000\n",
      "\n",
      "[4256 rows x 2 columns]\n"
     ]
    }
   ],
   "source": [
    "X_columns = ['College Code', 'BCM']\n",
    "y_column = 'BCM_R'  \n",
    "\n",
    "X = merged_df[X_columns]\n",
    "y = merged_df[y_column]\n",
    "\n",
    "X_train, X_test, y_train, y_test = train_test_split(X, y, test_size=0.2, random_state=42)\n",
    "\n",
    "print(X_train)"
   ]
  },
  {
   "cell_type": "code",
   "execution_count": 106,
   "id": "c37701be",
   "metadata": {},
   "outputs": [
    {
     "name": "stdout",
     "output_type": "stream",
     "text": [
      "R-squared: 84.99997368317642\n"
     ]
    }
   ],
   "source": [
    "model_BCM = LinearRegression()\n",
    "model_BCM.fit(X_train, y_train)\n",
    "\n",
    "y_pred = model_BCM.predict(X_test)\n",
    "from sklearn.metrics import r2_score\n",
    "r2 = r2_score(y_test, y_pred)\n",
    "print(f'R-squared: {r2*100}')"
   ]
  },
  {
   "cell_type": "code",
   "execution_count": 107,
   "id": "22e3f9c9",
   "metadata": {},
   "outputs": [],
   "source": [
    "with open('model_BCM.pkl', 'wb') as file:\n",
    "    pickle.dump(model_BCM, file)"
   ]
  },
  {
   "cell_type": "code",
   "execution_count": 108,
   "id": "08979d59",
   "metadata": {},
   "outputs": [
    {
     "name": "stdout",
     "output_type": "stream",
     "text": [
      "      College Code         MBC\n",
      "2629          1014  155.000000\n",
      "511           1401  156.710000\n",
      "62            1015  168.500000\n",
      "3128          1409  121.500000\n",
      "4233          2740  134.000000\n",
      "...            ...         ...\n",
      "3092          1399  187.500000\n",
      "3772          2628   88.000000\n",
      "5191          5851  139.098295\n",
      "5226          5907  139.098295\n",
      "860           2328  152.135000\n",
      "\n",
      "[4256 rows x 2 columns]\n"
     ]
    }
   ],
   "source": [
    "X_columns = ['College Code', 'MBC']\n",
    "y_column = 'MBC_R'  \n",
    "\n",
    "X = merged_df[X_columns]\n",
    "y = merged_df[y_column]\n",
    "\n",
    "X_train, X_test, y_train, y_test = train_test_split(X, y, test_size=0.2, random_state=42)\n",
    "\n",
    "print(X_train)"
   ]
  },
  {
   "cell_type": "code",
   "execution_count": 109,
   "id": "fe783275",
   "metadata": {},
   "outputs": [
    {
     "name": "stdout",
     "output_type": "stream",
     "text": [
      "R-squared: 90.99838904898026\n"
     ]
    }
   ],
   "source": [
    "model_MBC = LinearRegression()\n",
    "model_MBC.fit(X_train, y_train)\n",
    "\n",
    "y_pred = model_MBC.predict(X_test)\n",
    "from sklearn.metrics import r2_score\n",
    "r2 = r2_score(y_test, y_pred)\n",
    "print(f'R-squared: {r2*100}')"
   ]
  },
  {
   "cell_type": "code",
   "execution_count": 110,
   "id": "4632195c",
   "metadata": {},
   "outputs": [],
   "source": [
    "with open('model_MBC.pkl', 'wb') as file:\n",
    "    pickle.dump(model_MBC, file)"
   ]
  },
  {
   "cell_type": "code",
   "execution_count": 111,
   "id": "125c3160",
   "metadata": {},
   "outputs": [
    {
     "name": "stdout",
     "output_type": "stream",
     "text": [
      "      College Code      MBCDNC\n",
      "2629          1014  158.194693\n",
      "511           1401  158.194693\n",
      "62            1015  162.330000\n",
      "3128          1409  158.194693\n",
      "4233          2740  158.194693\n",
      "...            ...         ...\n",
      "3092          1399  158.194693\n",
      "3772          2628  158.194693\n",
      "5191          5851  158.194693\n",
      "5226          5907  158.194693\n",
      "860           2328  143.695000\n",
      "\n",
      "[4256 rows x 2 columns]\n"
     ]
    }
   ],
   "source": [
    "X_columns = ['College Code', 'MBCDNC']\n",
    "y_column = 'MBCDNC_R'  \n",
    "\n",
    "X = merged_df[X_columns]\n",
    "y = merged_df[y_column]\n",
    "\n",
    "X_train, X_test, y_train, y_test = train_test_split(X, y, test_size=0.2, random_state=42)\n",
    "\n",
    "print(X_train)"
   ]
  },
  {
   "cell_type": "code",
   "execution_count": 112,
   "id": "729f9ab5",
   "metadata": {},
   "outputs": [
    {
     "name": "stdout",
     "output_type": "stream",
     "text": [
      "R-squared: 86.97773282557219\n"
     ]
    }
   ],
   "source": [
    "model_MBCDNC = LinearRegression()\n",
    "model_MBCDNC.fit(X_train, y_train)\n",
    "\n",
    "y_pred = model_MBCDNC.predict(X_test)\n",
    "from sklearn.metrics import r2_score\n",
    "r2 = r2_score(y_test, y_pred)\n",
    "print(f'R-squared: {r2*100}')"
   ]
  },
  {
   "cell_type": "code",
   "execution_count": 113,
   "id": "5b024fc7",
   "metadata": {},
   "outputs": [],
   "source": [
    "with open('model_MBCDNC.pkl', 'wb') as file:\n",
    "    pickle.dump(model_MBCDNC, file)"
   ]
  },
  {
   "cell_type": "code",
   "execution_count": 114,
   "id": "172ef756",
   "metadata": {},
   "outputs": [
    {
     "name": "stdout",
     "output_type": "stream",
     "text": [
      "      College Code        MBCV\n",
      "2629          1014  155.562462\n",
      "511           1401  167.470000\n",
      "62            1015  165.500000\n",
      "3128          1409  155.562462\n",
      "4233          2740  155.562462\n",
      "...            ...         ...\n",
      "3092          1399  155.562462\n",
      "3772          2628  155.562462\n",
      "5191          5851  155.562462\n",
      "5226          5907  155.562462\n",
      "860           2328  144.900000\n",
      "\n",
      "[4256 rows x 2 columns]\n"
     ]
    }
   ],
   "source": [
    "X_columns = ['College Code', 'MBCV']\n",
    "y_column = 'MBCV_R'  \n",
    "\n",
    "X = merged_df[X_columns]\n",
    "y = merged_df[y_column]\n",
    "\n",
    "X_train, X_test, y_train, y_test = train_test_split(X, y, test_size=0.2, random_state=42)\n",
    "\n",
    "print(X_train)"
   ]
  },
  {
   "cell_type": "code",
   "execution_count": 115,
   "id": "148c4d51",
   "metadata": {},
   "outputs": [
    {
     "name": "stdout",
     "output_type": "stream",
     "text": [
      "R-squared: 86.17688085501301\n"
     ]
    }
   ],
   "source": [
    "model_MBCV = LinearRegression()\n",
    "model_MBCV.fit(X_train, y_train)\n",
    "\n",
    "y_pred = model_MBCV.predict(X_test)\n",
    "from sklearn.metrics import r2_score\n",
    "r2 = r2_score(y_test, y_pred)\n",
    "print(f'R-squared: {r2*100}')"
   ]
  },
  {
   "cell_type": "code",
   "execution_count": 45,
   "id": "ae592257",
   "metadata": {},
   "outputs": [],
   "source": [
    "with open('model_MBCV.pkl', 'wb') as file:\n",
    "    pickle.dump(model_MBCV, file)"
   ]
  },
  {
   "cell_type": "code",
   "execution_count": 116,
   "id": "5a322102",
   "metadata": {},
   "outputs": [
    {
     "name": "stdout",
     "output_type": "stream",
     "text": [
      "      College Code          SC\n",
      "2629          1014  145.000000\n",
      "511           1401  146.970000\n",
      "62            1015  159.470000\n",
      "3128          1409  103.500000\n",
      "4233          2740   84.000000\n",
      "...            ...         ...\n",
      "3092          1399  177.350000\n",
      "3772          2628   80.000000\n",
      "5191          5851  125.083697\n",
      "5226          5907   91.000000\n",
      "860           2328  143.990000\n",
      "\n",
      "[4256 rows x 2 columns]\n"
     ]
    }
   ],
   "source": [
    "X_columns = ['College Code', 'SC']\n",
    "y_column = 'SC_R'  \n",
    "\n",
    "X = merged_df[X_columns]\n",
    "y = merged_df[y_column]\n",
    "\n",
    "X_train, X_test, y_train, y_test = train_test_split(X, y, test_size=0.2, random_state=42)\n",
    "\n",
    "print(X_train)"
   ]
  },
  {
   "cell_type": "code",
   "execution_count": 117,
   "id": "f50d5d44",
   "metadata": {},
   "outputs": [
    {
     "name": "stdout",
     "output_type": "stream",
     "text": [
      "R-squared: 80.92813370141003\n"
     ]
    }
   ],
   "source": [
    "model_SC = LinearRegression()\n",
    "model_SC.fit(X_train, y_train)\n",
    "\n",
    "y_pred = model_SC.predict(X_test)\n",
    "from sklearn.metrics import r2_score\n",
    "r2 = r2_score(y_test, y_pred)\n",
    "print(f'R-squared: {r2*100}')"
   ]
  },
  {
   "cell_type": "code",
   "execution_count": 48,
   "id": "5ad8a34e",
   "metadata": {},
   "outputs": [],
   "source": [
    "with open('model_SC.pkl', 'wb') as file:\n",
    "    pickle.dump(model_SC, file)"
   ]
  },
  {
   "cell_type": "code",
   "execution_count": 118,
   "id": "beaecab6",
   "metadata": {},
   "outputs": [
    {
     "name": "stdout",
     "output_type": "stream",
     "text": [
      "      College Code         SCA\n",
      "2629          1014  132.500000\n",
      "511           1401  135.072406\n",
      "62            1015  135.072406\n",
      "3128          1409  135.072406\n",
      "4233          2740  135.072406\n",
      "...            ...         ...\n",
      "3092          1399  147.000000\n",
      "3772          2628  135.072406\n",
      "5191          5851  135.072406\n",
      "5226          5907  135.072406\n",
      "860           2328  165.750000\n",
      "\n",
      "[4256 rows x 2 columns]\n"
     ]
    }
   ],
   "source": [
    "X_columns = ['College Code', 'SCA']\n",
    "y_column = 'SCA_R'  \n",
    "\n",
    "X = merged_df[X_columns]\n",
    "y = merged_df[y_column]\n",
    "\n",
    "X_train, X_test, y_train, y_test = train_test_split(X, y, test_size=0.2, random_state=42)\n",
    "\n",
    "print(X_train)"
   ]
  },
  {
   "cell_type": "code",
   "execution_count": 119,
   "id": "3ebbf84c",
   "metadata": {},
   "outputs": [
    {
     "name": "stdout",
     "output_type": "stream",
     "text": [
      "R-squared: 82.47684042186721\n"
     ]
    }
   ],
   "source": [
    "model_SCA = LinearRegression()\n",
    "model_SCA.fit(X_train, y_train)\n",
    "\n",
    "y_pred = model_SCA.predict(X_test)\n",
    "from sklearn.metrics import r2_score\n",
    "r2 = r2_score(y_test, y_pred)\n",
    "print(f'R-squared: {r2*100}')"
   ]
  },
  {
   "cell_type": "code",
   "execution_count": 120,
   "id": "b6653930",
   "metadata": {},
   "outputs": [],
   "source": [
    "with open('model_SCA.pkl', 'wb') as file:\n",
    "    pickle.dump(model_SCA, file)"
   ]
  },
  {
   "cell_type": "code",
   "execution_count": 122,
   "id": "1af87479",
   "metadata": {},
   "outputs": [
    {
     "name": "stdout",
     "output_type": "stream",
     "text": [
      "      College Code          ST\n",
      "2629          1014  139.689947\n",
      "511           1401  139.689947\n",
      "62            1015  139.689947\n",
      "3128          1409  139.689947\n",
      "4233          2740  139.689947\n",
      "...            ...         ...\n",
      "3092          1399  118.500000\n",
      "3772          2628  139.689947\n",
      "5191          5851  139.689947\n",
      "5226          5907  139.689947\n",
      "860           2328  139.689947\n",
      "\n",
      "[4256 rows x 2 columns]\n"
     ]
    }
   ],
   "source": [
    "X_columns = ['College Code', 'ST']\n",
    "y_column = 'ST_R'  \n",
    "\n",
    "X = merged_df[X_columns]\n",
    "y = merged_df[y_column]\n",
    "\n",
    "X_train, X_test, y_train, y_test = train_test_split(X, y, test_size=0.2, random_state=42)\n",
    "\n",
    "print(X_train)"
   ]
  },
  {
   "cell_type": "code",
   "execution_count": 123,
   "id": "19cd316c",
   "metadata": {},
   "outputs": [
    {
     "name": "stdout",
     "output_type": "stream",
     "text": [
      "R-squared: 81.56297998412812\n"
     ]
    }
   ],
   "source": [
    "model_ST = LinearRegression()\n",
    "model_ST.fit(X_train, y_train)\n",
    "\n",
    "y_pred = model_ST.predict(X_test)\n",
    "from sklearn.metrics import r2_score\n",
    "r2 = r2_score(y_test, y_pred)\n",
    "print(f'R-squared: {r2*100}')"
   ]
  },
  {
   "cell_type": "code",
   "execution_count": 124,
   "id": "9c2cb4dd",
   "metadata": {},
   "outputs": [],
   "source": [
    "with open('model_ST.pkl', 'wb') as file:\n",
    "    pickle.dump(model_ST, file)"
   ]
  },
  {
   "cell_type": "code",
   "execution_count": null,
   "id": "8f6f072b",
   "metadata": {},
   "outputs": [],
   "source": []
  }
 ],
 "metadata": {
  "kernelspec": {
   "display_name": "Python 3 (ipykernel)",
   "language": "python",
   "name": "python3"
  },
  "language_info": {
   "codemirror_mode": {
    "name": "ipython",
    "version": 3
   },
   "file_extension": ".py",
   "mimetype": "text/x-python",
   "name": "python",
   "nbconvert_exporter": "python",
   "pygments_lexer": "ipython3",
   "version": "3.11.5"
  }
 },
 "nbformat": 4,
 "nbformat_minor": 5
}
